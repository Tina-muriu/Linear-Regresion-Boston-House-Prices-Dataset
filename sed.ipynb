{
 "cells": [
  {
   "cell_type": "code",
   "execution_count": 46,
   "id": "92ebc559",
   "metadata": {},
   "outputs": [
    {
     "name": "stdout",
     "output_type": "stream",
     "text": [
      "Requirement already satisfied: mglearn in c:\\programdata\\anaconda3\\lib\\site-packages (0.1.9)\n",
      "Requirement already satisfied: pandas in c:\\programdata\\anaconda3\\lib\\site-packages (from mglearn) (1.3.4)\n",
      "Requirement already satisfied: matplotlib in c:\\programdata\\anaconda3\\lib\\site-packages (from mglearn) (3.4.3)\n",
      "Requirement already satisfied: pillow in c:\\programdata\\anaconda3\\lib\\site-packages (from mglearn) (8.4.0)\n",
      "Requirement already satisfied: imageio in c:\\programdata\\anaconda3\\lib\\site-packages (from mglearn) (2.9.0)\n",
      "Requirement already satisfied: scikit-learn in c:\\programdata\\anaconda3\\lib\\site-packages (from mglearn) (0.24.2)\n",
      "Requirement already satisfied: numpy in c:\\programdata\\anaconda3\\lib\\site-packages (from mglearn) (1.20.3)\n",
      "Requirement already satisfied: joblib in c:\\programdata\\anaconda3\\lib\\site-packages (from mglearn) (1.1.0)\n",
      "Requirement already satisfied: cycler in c:\\programdata\\anaconda3\\lib\\site-packages (from mglearn) (0.10.0)\n",
      "Requirement already satisfied: six in c:\\programdata\\anaconda3\\lib\\site-packages (from cycler->mglearn) (1.16.0)\n",
      "Requirement already satisfied: pyparsing>=2.2.1 in c:\\programdata\\anaconda3\\lib\\site-packages (from matplotlib->mglearn) (3.0.4)\n",
      "Requirement already satisfied: python-dateutil>=2.7 in c:\\programdata\\anaconda3\\lib\\site-packages (from matplotlib->mglearn) (2.8.2)\n",
      "Requirement already satisfied: kiwisolver>=1.0.1 in c:\\programdata\\anaconda3\\lib\\site-packages (from matplotlib->mglearn) (1.3.1)\n",
      "Requirement already satisfied: pytz>=2017.3 in c:\\programdata\\anaconda3\\lib\\site-packages (from pandas->mglearn) (2021.3)\n",
      "Requirement already satisfied: scipy>=0.19.1 in c:\\programdata\\anaconda3\\lib\\site-packages (from scikit-learn->mglearn) (1.7.1)\n",
      "Requirement already satisfied: threadpoolctl>=2.0.0 in c:\\programdata\\anaconda3\\lib\\site-packages (from scikit-learn->mglearn) (2.2.0)\n"
     ]
    }
   ],
   "source": [
    "!pip install mglearn\n",
    "import mglearn\n",
    "from sklearn.linear_model import LinearRegression,Ridge\n",
    "from sklearn.model_selection import train_test_split\n",
    "from sklearn.datasets import make_regression"
   ]
  },
  {
   "cell_type": "code",
   "execution_count": 47,
   "id": "c9ce7e7c",
   "metadata": {},
   "outputs": [],
   "source": [
    "X, y=mglearn.datasets.make_wave()"
   ]
  },
  {
   "cell_type": "code",
   "execution_count": 48,
   "id": "2e87476e",
   "metadata": {},
   "outputs": [],
   "source": [
    "X_train, X_test, y_train, y_test=train_test_split(X, y,random_state=0)"
   ]
  },
  {
   "cell_type": "code",
   "execution_count": 49,
   "id": "fcc82782",
   "metadata": {},
   "outputs": [],
   "source": [
    "lr_model=LinearRegression()"
   ]
  },
  {
   "cell_type": "code",
   "execution_count": 50,
   "id": "26d24638",
   "metadata": {},
   "outputs": [
    {
     "data": {
      "text/plain": [
       "LinearRegression()"
      ]
     },
     "execution_count": 50,
     "metadata": {},
     "output_type": "execute_result"
    }
   ],
   "source": [
    "lr_model.fit(X_train,y_train)"
   ]
  },
  {
   "cell_type": "code",
   "execution_count": 51,
   "id": "a0218265",
   "metadata": {},
   "outputs": [
    {
     "name": "stdout",
     "output_type": "stream",
     "text": [
      "slope coefficient)is:[0.39618269]\n",
      "\n",
      "y-intercept is:0.032241940117533535\n",
      "\n"
     ]
    }
   ],
   "source": [
    "#display the learned models\n",
    "print(\"slope coefficient)is:{}\\n\".format(lr_model.coef_))\n",
    "print(\"y-intercept is:{}\\n\".format(lr_model.intercept_))"
   ]
  },
  {
   "cell_type": "code",
   "execution_count": 52,
   "id": "81696e71",
   "metadata": {},
   "outputs": [
    {
     "data": {
      "text/plain": [
       "[<matplotlib.lines.Line2D at 0x1b033c7ff70>]"
      ]
     },
     "execution_count": 52,
     "metadata": {},
     "output_type": "execute_result"
    },
    {
     "data": {
      "image/png": "[encoded data removed]",
      "text/plain": [
       "<Figure size 432x288 with 1 Axes>"
      ]
     },
     "metadata": {
      "needs_background": "light"
     },
     "output_type": "display_data"
    }
   ],
   "source": [
    "import matplotlib.pyplot as  plt\n",
    "plt.scatter(X,y)\n",
    "plt.plot(X,(lr_model.coef_*X+lr_model.intercept_), color=\"red\")"
   ]
  },
  {
   "cell_type": "markdown",
   "id": "40f0833d",
   "metadata": {},
   "source": [
    "# compute the accuracy on training and testing data \n"
   ]
  },
  {
   "cell_type": "code",
   "execution_count": 53,
   "id": "f844187a",
   "metadata": {},
   "outputs": [
    {
     "name": "stdout",
     "output_type": "stream",
     "text": [
      "The accuracy of the training data is:0.6055564372642455\n",
      "\n"
     ]
    }
   ],
   "source": [
    "print(\"The accuracy of the training data is:{}\\n\".format(lr_model.score(X_train,y_train)))"
   ]
  },
  {
   "cell_type": "code",
   "execution_count": 54,
   "id": "5a81a3c8",
   "metadata": {},
   "outputs": [
    {
     "name": "stdout",
     "output_type": "stream",
     "text": [
      "Boston dataset attributes:.. _boston_dataset:\n",
      "\n",
      "Boston house prices dataset\n",
      "---------------------------\n",
      "\n",
      "**Data Set Characteristics:**  \n",
      "\n",
      "    :Number of Instances: 506 \n",
      "\n",
      "    :Number of Attributes: 13 numeric/categorical predictive. Median Value (attribute 14) is usually the target.\n",
      "\n",
      "    :Attribute Information (in order):\n",
      "        - CRIM     per capita crime rate by town\n",
      "        - ZN       proportion of residential land zoned for lots over 25,000 sq.ft.\n",
      "        - INDUS    proportion of non-retail business acres per town\n",
      "        - CHAS     Charles River dummy variable (= 1 if tract bounds river; 0 otherwise)\n",
      "        - NOX      nitric oxides concentration (parts per 10 million)\n",
      "        - RM       average number of rooms per dwelling\n",
      "        - AGE      proportion of owner-occupied units built prior to 1940\n",
      "        - DIS      weighted distances to five Boston employment centres\n",
      "        - RAD      index of accessibility to radial highways\n",
      "        - TAX      full-value property-tax rate per $10,000\n",
      "        - PTRATIO  pupil-teacher ratio by town\n",
      "        - B        1000(Bk - 0.63)^2 where Bk is the proportion of black people by town\n",
      "        - LSTAT    % lower status of the population\n",
      "        - MEDV     Median value of owner-occupied homes in $1000's\n",
      "\n",
      "    :Missing Attribute Values: None\n",
      "\n",
      "    :Creator: Harrison, D. and Rubinfeld, D.L.\n",
      "\n",
      "This is a copy of UCI ML housing dataset.\n",
      "https://archive.ics.uci.edu/ml/machine-learning-databases/housing/\n",
      "\n",
      "\n",
      "This dataset was taken from the StatLib library which is maintained at Carnegie Mellon University.\n",
      "\n",
      "The Boston house-price data of Harrison, D. and Rubinfeld, D.L. 'Hedonic\n",
      "prices and the demand for clean air', J. Environ. Economics & Management,\n",
      "vol.5, 81-102, 1978.   Used in Belsley, Kuh & Welsch, 'Regression diagnostics\n",
      "...', Wiley, 1980.   N.B. Various transformations are used in the table on\n",
      "pages 244-261 of the latter.\n",
      "\n",
      "The Boston house-price data has been used in many machine learning papers that address regression\n",
      "problems.   \n",
      "     \n",
      ".. topic:: References\n",
      "\n",
      "   - Belsley, Kuh & Welsch, 'Regression diagnostics: Identifying Influential Data and Sources of Collinearity', Wiley, 1980. 244-261.\n",
      "   - Quinlan,R. (1993). Combining Instance-Based and Model-Based Learning. In Proceedings on the Tenth International Conference of Machine Learning, 236-243, University of Massachusetts, Amherst. Morgan Kaufmann.\n",
      "\n",
      "\n"
     ]
    }
   ],
   "source": [
    "#working with the boston dataset\n",
    "from sklearn.datasets import load_boston\n",
    "import pandas as pd\n",
    "boston=load_boston()\n",
    "boston_df=pd.DataFrame(boston.target)\n",
    "print(\"Boston dataset attributes:{}\\n\".format(boston['DESCR']))"
   ]
  },
  {
   "cell_type": "code",
   "execution_count": 92,
   "id": "a3eed5db",
   "metadata": {},
   "outputs": [
    {
     "name": "stdout",
     "output_type": "stream",
     "text": [
      "the Accuracy of the training data is: 0.6055461065346809\n",
      "\n",
      "the Accuracy of the testing data is: 0.6202555997185959\n",
      "\n",
      "the Accuracy of the training data is: 0.6045960898600409\n",
      "\n",
      "the Accuracy of the testing data is: 0.6112391240426256\n",
      "\n",
      "the Accuracy of the training data is:  0.6055564362226717\n",
      "\n",
      "the Accuracy of the testing data is:  0.6212006220275814\n",
      "\n"
     ]
    }
   ],
   "source": [
    "\n",
    "ridge_model=Ridge(alpha=1).fit(X_train,y_train)\n",
    "\n",
    "#compute the accuracy both on the training and testing data\n",
    "print(\"the Accuracy of the training data is: {}\\n\".format(ridge_model1.score(X_train,y_train)))\n",
    "print(\"the Accuracy of the testing data is: {}\\n\".format(ridge_model1.score(X_test,y_test)))\n",
    "\n",
    "ridge_model10=Ridge(alpha=10).fit(X_train,y_train)\n",
    "\n",
    "#compute the accuracy both on the training and testing data\n",
    "print(\"the Accuracy of the training data is: {}\\n\".format(ridge_model10.score(X_train,y_train)))\n",
    "print(\"the Accuracy of the testing data is: {}\\n\".format(ridge_model10.score(X_test,y_test)))\n",
    "\n",
    "#make the model\n",
    "ridge_model001=Ridge(alpha=0.01).fit(X_train,y_train)\n",
    "\n",
    "#compute the accuracy both on the training and testing data\n",
    "print(\"the Accuracy of the training data is:  {}\\n\".format(ridge_model001.score(X_train,y_train)))\n",
    "print(\"the Accuracy of the testing data is:  {}\\n\".format(ridge_model001.score(X_test,y_test)))"
   ]
  },
  {
   "cell_type": "code",
   "execution_count": 94,
   "id": "eb8ff518",
   "metadata": {},
   "outputs": [
    {
     "data": {
      "text/plain": [
       "<matplotlib.legend.Legend at 0x1b034f7ad00>"
      ]
     },
     "execution_count": 94,
     "metadata": {},
     "output_type": "execute_result"
    },
    {
     "data": {
      "image/png": "[encoded data removed]",
      "text/plain": [
       "<Figure size 432x288 with 1 Axes>"
      ]
     },
     "metadata": {
      "needs_background": "light"
     },
     "output_type": "display_data"
    }
   ],
   "source": [
    "plt.plot(ridge_model.coef_,'s',label=\"Ridge alpha=1\")\n",
    "plt.plot(ridge_model10.coef_,'^',label=\"Ridge alpha=10\")\n",
    "plt.plot(ridge_model001.coef_,'v',label=\"Ridge alpha=0.01\")\n",
    "plt.legend()\n"
   ]
  },
  {
   "cell_type": "code",
   "execution_count": null,
   "id": "53f65ce5",
   "metadata": {},
   "outputs": [],
   "source": []
  },
  {
   "cell_type": "code",
   "execution_count": null,
   "id": "edd3d128",
   "metadata": {},
   "outputs": [],
   "source": []
  }
 ],
 "metadata": {
  "kernelspec": {
   "display_name": "Python 3 (ipykernel)",
   "language": "python",
   "name": "python3"
  },
  "language_info": {
   "codemirror_mode": {
    "name": "ipython",
    "version": 3
   },
   "file_extension": ".py",
   "mimetype": "text/x-python",
   "name": "python",
   "nbconvert_exporter": "python",
   "pygments_lexer": "ipython3",
   "version": "3.9.7"
  }
 },
 "nbformat": 4,
 "nbformat_minor": 5
}
